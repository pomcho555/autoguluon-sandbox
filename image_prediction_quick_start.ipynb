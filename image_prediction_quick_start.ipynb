{
 "cells": [
  {
   "cell_type": "markdown",
   "id": "b64d53b5-fa0e-492c-8941-cde620d23945",
   "metadata": {},
   "source": [
    "# Image Prediction - Quick Start\n",
    "\n",
    "This notebook is implementation of [the link](https://auto.gluon.ai/stable/tutorials/image_prediction/beginner.html#image-prediction-quick-start)"
   ]
  },
  {
   "cell_type": "code",
   "execution_count": 1,
   "id": "81067d3e-b47f-4800-9999-593b1d4ba559",
   "metadata": {},
   "outputs": [],
   "source": [
    "%load_ext lab_black"
   ]
  },
  {
   "cell_type": "code",
   "execution_count": 2,
   "id": "4287dcbb-a0aa-4deb-a105-d0dd1fb77942",
   "metadata": {},
   "outputs": [
    {
     "name": "stderr",
     "output_type": "stream",
     "text": [
      "/Users/traveroliver/Library/Caches/pypoetry/virtualenvs/autoguluon-sandbox-uyisuGyl-py3.9/lib/python3.9/site-packages/tqdm/auto.py:22: TqdmWarning: IProgress not found. Please update jupyter and ipywidgets. See https://ipywidgets.readthedocs.io/en/stable/user_install.html\n",
      "  from .autonotebook import tqdm as notebook_tqdm\n"
     ]
    }
   ],
   "source": [
    "import autogluon.core as ag\n",
    "from autogluon.vision import ImagePredictor, ImageDataset"
   ]
  },
  {
   "cell_type": "code",
   "execution_count": 3,
   "id": "d6fe2c0b-9326-432a-82a0-fed0195a232d",
   "metadata": {},
   "outputs": [],
   "source": [
    "import ssl\n",
    "\n",
    "ssl._create_default_https_context = ssl._create_unverified_context"
   ]
  },
  {
   "cell_type": "code",
   "execution_count": 4,
   "id": "ddbd7802-550e-4725-b0d2-1cebbb85985e",
   "metadata": {},
   "outputs": [
    {
     "name": "stdout",
     "output_type": "stream",
     "text": [
      "data/\n",
      "├── .DS_Store\n",
      "├── test/\n",
      "└── train/\n",
      "                                                 image  label\n",
      "0    /Users/traveroliver/.gluoncv/datasets/shopee-i...      0\n",
      "1    /Users/traveroliver/.gluoncv/datasets/shopee-i...      0\n",
      "2    /Users/traveroliver/.gluoncv/datasets/shopee-i...      0\n",
      "3    /Users/traveroliver/.gluoncv/datasets/shopee-i...      0\n",
      "4    /Users/traveroliver/.gluoncv/datasets/shopee-i...      0\n",
      "..                                                 ...    ...\n",
      "795  /Users/traveroliver/.gluoncv/datasets/shopee-i...      3\n",
      "796  /Users/traveroliver/.gluoncv/datasets/shopee-i...      3\n",
      "797  /Users/traveroliver/.gluoncv/datasets/shopee-i...      3\n",
      "798  /Users/traveroliver/.gluoncv/datasets/shopee-i...      3\n",
      "799  /Users/traveroliver/.gluoncv/datasets/shopee-i...      3\n",
      "\n",
      "[800 rows x 2 columns]\n"
     ]
    }
   ],
   "source": [
    "train_dataset, _, test_dataset = ImageDataset.from_folders(\n",
    "    \"https://autogluon.s3.amazonaws.com/datasets/shopee-iet.zip\"\n",
    ")\n",
    "print(train_dataset)"
   ]
  },
  {
   "cell_type": "code",
   "execution_count": 5,
   "id": "e875522d-5cc9-415e-b234-7eb7951e4a07",
   "metadata": {},
   "outputs": [
    {
     "name": "stderr",
     "output_type": "stream",
     "text": [
      "`time_limit=auto` set to `time_limit=7200`.\n",
      "Reset labels to [0, 1, 2, 3]\n",
      "Randomly split train_data into train[720]/validation[80] splits.\n",
      "No GPU detected/allowed, using most conservative search space.\n",
      "Starting fit without HPO\n",
      "modified configs(<old> != <new>): {\n",
      "root.gpus            (0,) != ()\n",
      "root.misc.num_workers 4 != 8\n",
      "root.misc.seed       42 != 766\n",
      "root.train.early_stop_max_value 1.0 != inf\n",
      "root.train.epochs    200 != 2\n",
      "root.train.batch_size 32 != 16\n",
      "root.train.early_stop_patience -1 != 10\n",
      "root.train.early_stop_baseline 0.0 != -inf\n",
      "root.img_cls.model   resnet101 != resnet18\n",
      "}\n",
      "Saved config to /Users/traveroliver/workspace/autoguluon-sandbox/notebooks/5ae8a2a4/.trial_0/config.yaml\n",
      "Model resnet18 created, param count:                                         11178564\n",
      "AMP not enabled. Training in float32.\n",
      "Disable EMA as it is not supported for now.\n",
      "Start training from [Epoch 0]\n",
      "[Epoch 0] training: accuracy=0.304167\n",
      "[Epoch 0] speed: 6 samples/sec\ttime cost: 107.403479\n",
      "[Epoch 0] validation: top1=0.425000 top5=1.000000\n",
      "[Epoch 0] Current best top-1: 0.425000 vs previous -inf, saved to /Users/traveroliver/workspace/autoguluon-sandbox/notebooks/5ae8a2a4/.trial_0/best_checkpoint.pkl\n",
      "[Epoch 1] training: accuracy=0.656944\n",
      "[Epoch 1] speed: 6 samples/sec\ttime cost: 109.935636\n",
      "[Epoch 1] validation: top1=0.850000 top5=1.000000\n",
      "[Epoch 1] Current best top-1: 0.850000 vs previous 0.425000, saved to /Users/traveroliver/workspace/autoguluon-sandbox/notebooks/5ae8a2a4/.trial_0/best_checkpoint.pkl\n",
      "Applying the state from the best checkpoint...\n",
      "Finished, total runtime is 233.78 s\n",
      "{ 'best_config': { 'batch_size': 16,\n",
      "                   'dist_ip_addrs': None,\n",
      "                   'early_stop_baseline': -inf,\n",
      "                   'early_stop_max_value': inf,\n",
      "                   'early_stop_patience': 10,\n",
      "                   'epochs': 2,\n",
      "                   'final_fit': False,\n",
      "                   'gpus': [],\n",
      "                   'lr': 0.01,\n",
      "                   'model': 'resnet18',\n",
      "                   'ngpus_per_trial': 0,\n",
      "                   'nthreads_per_trial': 32,\n",
      "                   'num_workers': 8,\n",
      "                   'searcher': 'random',\n",
      "                   'seed': 766,\n",
      "                   'time_limits': 7200},\n",
      "  'total_time': 225.91968989372253,\n",
      "  'train_acc': 0.6569444444444444,\n",
      "  'valid_acc': 0.85}\n"
     ]
    },
    {
     "data": {
      "text/plain": [
       "<autogluon.vision.predictor.predictor.ImagePredictor at 0x7f8be20c0820>"
      ]
     },
     "execution_count": 5,
     "metadata": {},
     "output_type": "execute_result"
    }
   ],
   "source": [
    "predictor = ImagePredictor()\n",
    "# since the original dataset does not provide validation split, the `fit` function splits it randomly with 90/10 ratio\n",
    "predictor.fit(\n",
    "    train_dataset, hyperparameters={\"epochs\": 2}\n",
    ")  # you can trust the default config, we reduce the # epoch to save some build time"
   ]
  },
  {
   "cell_type": "code",
   "execution_count": 6,
   "id": "09570e33-0d6a-49f5-a4e5-54ee62b77fdc",
   "metadata": {},
   "outputs": [
    {
     "name": "stdout",
     "output_type": "stream",
     "text": [
      "Top-1 train acc: 0.657, val acc: 0.850\n"
     ]
    }
   ],
   "source": [
    "fit_result = predictor.fit_summary()\n",
    "print(\n",
    "    \"Top-1 train acc: %.3f, val acc: %.3f\"\n",
    "    % (fit_result[\"train_acc\"], fit_result[\"valid_acc\"])\n",
    ")"
   ]
  },
  {
   "cell_type": "code",
   "execution_count": 7,
   "id": "93def089-acee-434c-a13f-5a2d0a8c0a43",
   "metadata": {},
   "outputs": [
    {
     "name": "stdout",
     "output_type": "stream",
     "text": [
      "0    1\n",
      "Name: label, dtype: int64\n"
     ]
    }
   ],
   "source": [
    "image_path = test_dataset.iloc[0][\"image\"]\n",
    "result = predictor.predict(image_path)\n",
    "print(result)"
   ]
  },
  {
   "cell_type": "code",
   "execution_count": 8,
   "id": "4b0d890c-700a-4c58-a1db-e1b3b98b823f",
   "metadata": {},
   "outputs": [
    {
     "name": "stdout",
     "output_type": "stream",
     "text": [
      "          0         1         2         3\n",
      "0  0.084013  0.906092  0.001293  0.008601\n"
     ]
    }
   ],
   "source": [
    "proba = predictor.predict_proba(image_path)\n",
    "print(proba)"
   ]
  },
  {
   "cell_type": "code",
   "execution_count": 9,
   "id": "ff704cbd-188c-4214-a76c-cafdec19a215",
   "metadata": {},
   "outputs": [
    {
     "name": "stdout",
     "output_type": "stream",
     "text": [
      "0     1\n",
      "1     1\n",
      "2     1\n",
      "3     2\n",
      "4     0\n",
      "     ..\n",
      "75    3\n",
      "76    3\n",
      "77    3\n",
      "78    3\n",
      "79    3\n",
      "Name: label, Length: 80, dtype: int64\n"
     ]
    }
   ],
   "source": [
    "bulk_result = predictor.predict(test_dataset)\n",
    "print(bulk_result)"
   ]
  },
  {
   "cell_type": "code",
   "execution_count": 10,
   "id": "5bc3c367-d4cb-43db-bd36-b6c8e7ee263a",
   "metadata": {},
   "outputs": [
    {
     "name": "stdout",
     "output_type": "stream",
     "text": [
      "                                       image_feature  \\\n",
      "0  [0.0, 0.0, 0.0, 0.0, 0.0, 0.0, 0.0, 0.0, 0.0, ...   \n",
      "\n",
      "                                               image  \n",
      "0  /Users/traveroliver/.gluoncv/datasets/shopee-i...  \n"
     ]
    }
   ],
   "source": [
    "image_path = test_dataset.iloc[0][\"image\"]\n",
    "feature = predictor.predict_feature(image_path)\n",
    "print(feature)"
   ]
  },
  {
   "cell_type": "code",
   "execution_count": 11,
   "id": "ff715286-80e0-4e87-94ef-84091fb69d41",
   "metadata": {},
   "outputs": [
    {
     "name": "stderr",
     "output_type": "stream",
     "text": [
      "[Epoch 1] validation: top1=0.837500 top5=1.000000\n"
     ]
    },
    {
     "name": "stdout",
     "output_type": "stream",
     "text": [
      "Top-1 test acc: 0.838\n"
     ]
    }
   ],
   "source": [
    "test_acc = predictor.evaluate(test_dataset)\n",
    "print(\"Top-1 test acc: %.3f\" % test_acc[\"top1\"])"
   ]
  },
  {
   "cell_type": "code",
   "execution_count": 12,
   "id": "e9806237-dd69-4ff3-a434-edeeb1d132b9",
   "metadata": {},
   "outputs": [
    {
     "name": "stdout",
     "output_type": "stream",
     "text": [
      "0    1\n",
      "Name: label, dtype: int64\n"
     ]
    }
   ],
   "source": [
    "filename = \"image_predictor.ag\"  # Must be image_predictor.ag\n",
    "predictor.save(filename)\n",
    "predictor_loaded = ImagePredictor.load(filename)\n",
    "# use predictor_loaded as usual\n",
    "result = predictor_loaded.predict(image_path)\n",
    "print(result)"
   ]
  },
  {
   "cell_type": "markdown",
   "id": "d67b5c44-0eab-4c56-a839-ac64cefb6406",
   "metadata": {},
   "source": [
    "## Upload the model to SageMaker serverless inference"
   ]
  },
  {
   "cell_type": "code",
   "execution_count": 13,
   "id": "dfad2b76-bcd7-49b6-8aba-9975fce1494a",
   "metadata": {},
   "outputs": [],
   "source": [
    "# zip a model file\n",
    "import tarfile\n",
    "\n",
    "with tarfile.open(\"model.tar.gz\", \"w:gz\") as tar:\n",
    "    tar.add(filename)"
   ]
  },
  {
   "cell_type": "code",
   "execution_count": 14,
   "id": "8f466217-afd2-40ef-a551-b6651732bf40",
   "metadata": {},
   "outputs": [],
   "source": [
    "import sagemaker\n",
    "import pandas as pd\n",
    "import numpy as np\n",
    "from ag_model import (\n",
    "    AutoGluonInferenceModel,\n",
    "    AutoGluonPredictor,\n",
    ")\n",
    "from sagemaker import utils\n",
    "import os\n",
    "\n",
    "role = sagemaker.get_execution_role() # local \"test-sage-maker-role\"\n",
    "sagemaker_session = sagemaker.session.Session()\n",
    "region = \"us-west-2\"  # sagemaker_session._region_name\n",
    "\n",
    "bucket = sagemaker_session.default_bucket()\n",
    "s3_prefix = f\"autogluon_sm/{utils.sagemaker_timestamp()}\"\n",
    "output_path = f\"s3://{bucket}/{s3_prefix}/output/\""
   ]
  },
  {
   "cell_type": "code",
   "execution_count": 15,
   "id": "9ba23ce4-024c-454f-8f55-a2a13b868dcb",
   "metadata": {},
   "outputs": [],
   "source": [
    "endpoint_name = sagemaker.utils.unique_name_from_base(\n",
    "    \"sagemaker-autogluon-serving-trained-model\"\n",
    ")\n",
    "\n",
    "model_data = sagemaker_session.upload_data(\n",
    "    path=os.path.join(\".\", \"model.tar.gz\"), key_prefix=f\"{endpoint_name}/models\"\n",
    ")"
   ]
  },
  {
   "cell_type": "code",
   "execution_count": 16,
   "id": "b21cff6a-6698-41aa-8630-847e57a1e5ca",
   "metadata": {},
   "outputs": [
    {
     "data": {
      "text/plain": [
       "'s3://sagemaker-us-west-2-110942190652/sagemaker-autogluon-serving-trained-model-1659254337-384f/models/model.tar.gz'"
      ]
     },
     "execution_count": 16,
     "metadata": {},
     "output_type": "execute_result"
    }
   ],
   "source": [
    "model_data"
   ]
  },
  {
   "cell_type": "code",
   "execution_count": 17,
   "id": "d82a4c5d-3aa0-4211-b981-b97b71ec7060",
   "metadata": {},
   "outputs": [
    {
     "name": "stdout",
     "output_type": "stream",
     "text": [
      "-----!"
     ]
    }
   ],
   "source": [
    "instance_type = \"ml.m5.xlarge\"\n",
    "# instance_type = 'local'\n",
    "model = AutoGluonInferenceModel(\n",
    "    model_data=model_data,\n",
    "    role=role,\n",
    "    region=region,\n",
    "    py_version=\"py37\",\n",
    "    framework_version=\"0.3.1\",\n",
    "    instance_type=instance_type,\n",
    "    source_dir=\"scripts\",\n",
    "    entry_point=\"vision_serve.py\",\n",
    ")\n",
    "predictor = model.deploy(\n",
    "    initial_instance_count=1, serializer=None, instance_type=instance_type\n",
    ")"
   ]
  },
  {
   "cell_type": "code",
   "execution_count": 19,
   "id": "16bd6021-c666-453a-b94b-7c3adb26f8a5",
   "metadata": {},
   "outputs": [],
   "source": [
    "import boto3\n",
    "\n",
    "runtime = boto3.Session().client(service_name=\"runtime.sagemaker\")"
   ]
  },
  {
   "cell_type": "code",
   "execution_count": 20,
   "id": "784c9f43-7077-41d2-afe2-d7fc386dffbc",
   "metadata": {},
   "outputs": [
    {
     "data": {
      "text/plain": [
       "<botocore.client.SageMakerRuntime at 0x7f8ba91a4f40>"
      ]
     },
     "execution_count": 20,
     "metadata": {},
     "output_type": "execute_result"
    }
   ],
   "source": [
    "runtime"
   ]
  },
  {
   "cell_type": "markdown",
   "id": "95c1fee2-4892-408c-ad8b-b11f0c522fdb",
   "metadata": {},
   "source": [
    "## Prediction Test"
   ]
  },
  {
   "cell_type": "code",
   "execution_count": 21,
   "id": "18d93751-3d91-4421-9963-d28ed2e55388",
   "metadata": {},
   "outputs": [
    {
     "data": {
      "image/jpeg": "[encoded data removed]",
      "text/plain": [
       "<IPython.core.display.Image object>"
      ]
     },
     "execution_count": 21,
     "metadata": {},
     "output_type": "execute_result"
    }
   ],
   "source": [
    "file_name = \"./test-chanel.jpg\"\n",
    "\n",
    "# test image\n",
    "from IPython.display import Image\n",
    "\n",
    "Image(file_name)"
   ]
  },
  {
   "cell_type": "code",
   "execution_count": 22,
   "id": "e4886f18-bd17-41d2-9743-bb66238acacf",
   "metadata": {},
   "outputs": [
    {
     "data": {
      "text/plain": [
       "'sagemaker-autogluon-serving-trained-model-1659254337-384f'"
      ]
     },
     "execution_count": 22,
     "metadata": {},
     "output_type": "execute_result"
    }
   ],
   "source": [
    "endpoint_name"
   ]
  },
  {
   "cell_type": "code",
   "execution_count": 25,
   "id": "7bff9199-fc26-4c8c-946d-05f6ce5fac73",
   "metadata": {},
   "outputs": [
    {
     "ename": "ModelError",
     "evalue": "An error occurred (ModelError) when calling the InvokeEndpoint operation: Received server error (500) from primary with message \"loaded state dict has a different number of parameter groups\nTraceback (most recent call last):\n  File \"/usr/local/lib/python3.7/site-packages/sagemaker_inference/transformer.py\", line 110, in transform\n    self.validate_and_initialize(model_dir=model_dir)\n  File \"/usr/local/lib/python3.7/site-packages/sagemaker_inference/transformer.py\", line 158, in validate_and_initialize\n    self._model = self._model_fn(model_dir)\n  File \"/opt/ml/model/code/vision_serve.py\", line 12, in model_fn\n    model = ImagePredictor.load(model_dir)\n  File \"/usr/local/lib/python3.7/site-packages/autogluon/vision/predictor/predictor.py\", line 703, in load\n    obj = pickle.load(fid)\n  File \"/usr/local/lib/python3.7/site-packages/gluoncv/auto/estimators/torch_image_classification/torch_image_classification.py\", line 821, in __setstate__\n    self._optimizer.load_state_dict(save_state['optimizer'])\n  File \"/usr/local/lib/python3.7/site-packages/torch/optim/optimizer.py\", line 141, in load_state_dict\n    raise ValueError(\"loaded state dict has a different number of \"\nValueError: loaded state dict has a different number of parameter groups\n\". See https://us-west-2.console.aws.amazon.com/cloudwatch/home?region=us-west-2#logEventViewer:group=/aws/sagemaker/Endpoints/autogluon-inference-2022-07-31-08-02-06-367 in account 110942190652 for more information.",
     "output_type": "error",
     "traceback": [
      "\u001b[0;31m---------------------------------------------------------------------------\u001b[0m",
      "\u001b[0;31mModelError\u001b[0m                                Traceback (most recent call last)",
      "Input \u001b[0;32mIn [25]\u001b[0m, in \u001b[0;36m<cell line: 4>\u001b[0;34m()\u001b[0m\n\u001b[1;32m      2\u001b[0m     payload \u001b[38;5;241m=\u001b[39m f\u001b[38;5;241m.\u001b[39mread()\n\u001b[1;32m      3\u001b[0m     payload \u001b[38;5;241m=\u001b[39m \u001b[38;5;28mbytearray\u001b[39m(payload)\n\u001b[0;32m----> 4\u001b[0m response \u001b[38;5;241m=\u001b[39m \u001b[43mruntime\u001b[49m\u001b[38;5;241;43m.\u001b[39;49m\u001b[43minvoke_endpoint\u001b[49m\u001b[43m(\u001b[49m\n\u001b[1;32m      5\u001b[0m \u001b[43m    \u001b[49m\u001b[43mEndpointName\u001b[49m\u001b[38;5;241;43m=\u001b[39;49m\u001b[38;5;124;43m\"\u001b[39;49m\u001b[38;5;124;43mautogluon-inference-2022-07-31-08-02-06-367\u001b[39;49m\u001b[38;5;124;43m\"\u001b[39;49m\u001b[43m,\u001b[49m\u001b[43m \u001b[49m\u001b[43mContentType\u001b[49m\u001b[38;5;241;43m=\u001b[39;49m\u001b[38;5;124;43m\"\u001b[39;49m\u001b[38;5;124;43mapplication/x-image\u001b[39;49m\u001b[38;5;124;43m\"\u001b[39;49m\u001b[43m,\u001b[49m\u001b[43m \u001b[49m\u001b[43mBody\u001b[49m\u001b[38;5;241;43m=\u001b[39;49m\u001b[43mpayload\u001b[49m\n\u001b[1;32m      6\u001b[0m \u001b[43m)\u001b[49m\n\u001b[1;32m      7\u001b[0m result \u001b[38;5;241m=\u001b[39m response[\u001b[38;5;124m\"\u001b[39m\u001b[38;5;124mBody\u001b[39m\u001b[38;5;124m\"\u001b[39m]\u001b[38;5;241m.\u001b[39mread()\n",
      "File \u001b[0;32m~/Library/Caches/pypoetry/virtualenvs/autoguluon-sandbox-uyisuGyl-py3.9/lib/python3.9/site-packages/botocore/client.py:508\u001b[0m, in \u001b[0;36mClientCreator._create_api_method.<locals>._api_call\u001b[0;34m(self, *args, **kwargs)\u001b[0m\n\u001b[1;32m    504\u001b[0m     \u001b[38;5;28;01mraise\u001b[39;00m \u001b[38;5;167;01mTypeError\u001b[39;00m(\n\u001b[1;32m    505\u001b[0m         \u001b[38;5;124mf\u001b[39m\u001b[38;5;124m\"\u001b[39m\u001b[38;5;132;01m{\u001b[39;00mpy_operation_name\u001b[38;5;132;01m}\u001b[39;00m\u001b[38;5;124m() only accepts keyword arguments.\u001b[39m\u001b[38;5;124m\"\u001b[39m\n\u001b[1;32m    506\u001b[0m     )\n\u001b[1;32m    507\u001b[0m \u001b[38;5;66;03m# The \"self\" in this scope is referring to the BaseClient.\u001b[39;00m\n\u001b[0;32m--> 508\u001b[0m \u001b[38;5;28;01mreturn\u001b[39;00m \u001b[38;5;28;43mself\u001b[39;49m\u001b[38;5;241;43m.\u001b[39;49m\u001b[43m_make_api_call\u001b[49m\u001b[43m(\u001b[49m\u001b[43moperation_name\u001b[49m\u001b[43m,\u001b[49m\u001b[43m \u001b[49m\u001b[43mkwargs\u001b[49m\u001b[43m)\u001b[49m\n",
      "File \u001b[0;32m~/Library/Caches/pypoetry/virtualenvs/autoguluon-sandbox-uyisuGyl-py3.9/lib/python3.9/site-packages/botocore/client.py:915\u001b[0m, in \u001b[0;36mBaseClient._make_api_call\u001b[0;34m(self, operation_name, api_params)\u001b[0m\n\u001b[1;32m    913\u001b[0m     error_code \u001b[38;5;241m=\u001b[39m parsed_response\u001b[38;5;241m.\u001b[39mget(\u001b[38;5;124m\"\u001b[39m\u001b[38;5;124mError\u001b[39m\u001b[38;5;124m\"\u001b[39m, {})\u001b[38;5;241m.\u001b[39mget(\u001b[38;5;124m\"\u001b[39m\u001b[38;5;124mCode\u001b[39m\u001b[38;5;124m\"\u001b[39m)\n\u001b[1;32m    914\u001b[0m     error_class \u001b[38;5;241m=\u001b[39m \u001b[38;5;28mself\u001b[39m\u001b[38;5;241m.\u001b[39mexceptions\u001b[38;5;241m.\u001b[39mfrom_code(error_code)\n\u001b[0;32m--> 915\u001b[0m     \u001b[38;5;28;01mraise\u001b[39;00m error_class(parsed_response, operation_name)\n\u001b[1;32m    916\u001b[0m \u001b[38;5;28;01melse\u001b[39;00m:\n\u001b[1;32m    917\u001b[0m     \u001b[38;5;28;01mreturn\u001b[39;00m parsed_response\n",
      "\u001b[0;31mModelError\u001b[0m: An error occurred (ModelError) when calling the InvokeEndpoint operation: Received server error (500) from primary with message \"loaded state dict has a different number of parameter groups\nTraceback (most recent call last):\n  File \"/usr/local/lib/python3.7/site-packages/sagemaker_inference/transformer.py\", line 110, in transform\n    self.validate_and_initialize(model_dir=model_dir)\n  File \"/usr/local/lib/python3.7/site-packages/sagemaker_inference/transformer.py\", line 158, in validate_and_initialize\n    self._model = self._model_fn(model_dir)\n  File \"/opt/ml/model/code/vision_serve.py\", line 12, in model_fn\n    model = ImagePredictor.load(model_dir)\n  File \"/usr/local/lib/python3.7/site-packages/autogluon/vision/predictor/predictor.py\", line 703, in load\n    obj = pickle.load(fid)\n  File \"/usr/local/lib/python3.7/site-packages/gluoncv/auto/estimators/torch_image_classification/torch_image_classification.py\", line 821, in __setstate__\n    self._optimizer.load_state_dict(save_state['optimizer'])\n  File \"/usr/local/lib/python3.7/site-packages/torch/optim/optimizer.py\", line 141, in load_state_dict\n    raise ValueError(\"loaded state dict has a different number of \"\nValueError: loaded state dict has a different number of parameter groups\n\". See https://us-west-2.console.aws.amazon.com/cloudwatch/home?region=us-west-2#logEventViewer:group=/aws/sagemaker/Endpoints/autogluon-inference-2022-07-31-08-02-06-367 in account 110942190652 for more information."
     ]
    }
   ],
   "source": [
    "with open(file_name, \"rb\") as f:\n",
    "    payload = f.read()\n",
    "    payload = bytearray(payload)\n",
    "response = runtime.invoke_endpoint(\n",
    "    EndpointName=\"autogluon-inference-2022-07-31-08-02-06-367\", ContentType=\"application/x-image\", Body=payload\n",
    ")\n",
    "result = response[\"Body\"].read()"
   ]
  },
  {
   "cell_type": "code",
   "execution_count": 27,
   "id": "05b84535-3ce2-4b95-8fd5-712b23e67bac",
   "metadata": {},
   "outputs": [
    {
     "ename": "ModelError",
     "evalue": "An error occurred (ModelError) when calling the InvokeEndpoint operation: Received server error (500) from primary with message \"loaded state dict has a different number of parameter groups\nTraceback (most recent call last):\n  File \"/usr/local/lib/python3.7/site-packages/sagemaker_inference/transformer.py\", line 110, in transform\n    self.validate_and_initialize(model_dir=model_dir)\n  File \"/usr/local/lib/python3.7/site-packages/sagemaker_inference/transformer.py\", line 158, in validate_and_initialize\n    self._model = self._model_fn(model_dir)\n  File \"/opt/ml/model/code/vision_serve.py\", line 12, in model_fn\n    model = ImagePredictor.load(model_dir)\n  File \"/usr/local/lib/python3.7/site-packages/autogluon/vision/predictor/predictor.py\", line 703, in load\n    obj = pickle.load(fid)\n  File \"/usr/local/lib/python3.7/site-packages/gluoncv/auto/estimators/torch_image_classification/torch_image_classification.py\", line 821, in __setstate__\n    self._optimizer.load_state_dict(save_state['optimizer'])\n  File \"/usr/local/lib/python3.7/site-packages/torch/optim/optimizer.py\", line 141, in load_state_dict\n    raise ValueError(\"loaded state dict has a different number of \"\nValueError: loaded state dict has a different number of parameter groups\n\". See https://us-west-2.console.aws.amazon.com/cloudwatch/home?region=us-west-2#logEventViewer:group=/aws/sagemaker/Endpoints/autogluon-inference-2022-07-31-08-02-06-367 in account 110942190652 for more information.",
     "output_type": "error",
     "traceback": [
      "\u001b[0;31m---------------------------------------------------------------------------\u001b[0m",
      "\u001b[0;31mModelError\u001b[0m                                Traceback (most recent call last)",
      "Input \u001b[0;32mIn [27]\u001b[0m, in \u001b[0;36m<cell line: 1>\u001b[0;34m()\u001b[0m\n\u001b[0;32m----> 1\u001b[0m preds \u001b[38;5;241m=\u001b[39m \u001b[43mpredictor\u001b[49m\u001b[38;5;241;43m.\u001b[39;49m\u001b[43mpredict\u001b[49m\u001b[43m(\u001b[49m\u001b[43mfile_name\u001b[49m\u001b[43m)\u001b[49m\n",
      "File \u001b[0;32m~/Library/Caches/pypoetry/virtualenvs/autoguluon-sandbox-uyisuGyl-py3.9/lib/python3.9/site-packages/sagemaker/predictor.py:161\u001b[0m, in \u001b[0;36mPredictor.predict\u001b[0;34m(self, data, initial_args, target_model, target_variant, inference_id)\u001b[0m\n\u001b[1;32m    131\u001b[0m \u001b[38;5;124;03m\"\"\"Return the inference from the specified endpoint.\u001b[39;00m\n\u001b[1;32m    132\u001b[0m \n\u001b[1;32m    133\u001b[0m \u001b[38;5;124;03mArgs:\u001b[39;00m\n\u001b[0;32m   (...)\u001b[0m\n\u001b[1;32m    155\u001b[0m \u001b[38;5;124;03m        as is.\u001b[39;00m\n\u001b[1;32m    156\u001b[0m \u001b[38;5;124;03m\"\"\"\u001b[39;00m\n\u001b[1;32m    158\u001b[0m request_args \u001b[38;5;241m=\u001b[39m \u001b[38;5;28mself\u001b[39m\u001b[38;5;241m.\u001b[39m_create_request_args(\n\u001b[1;32m    159\u001b[0m     data, initial_args, target_model, target_variant, inference_id\n\u001b[1;32m    160\u001b[0m )\n\u001b[0;32m--> 161\u001b[0m response \u001b[38;5;241m=\u001b[39m \u001b[38;5;28;43mself\u001b[39;49m\u001b[38;5;241;43m.\u001b[39;49m\u001b[43msagemaker_session\u001b[49m\u001b[38;5;241;43m.\u001b[39;49m\u001b[43msagemaker_runtime_client\u001b[49m\u001b[38;5;241;43m.\u001b[39;49m\u001b[43minvoke_endpoint\u001b[49m\u001b[43m(\u001b[49m\u001b[38;5;241;43m*\u001b[39;49m\u001b[38;5;241;43m*\u001b[39;49m\u001b[43mrequest_args\u001b[49m\u001b[43m)\u001b[49m\n\u001b[1;32m    162\u001b[0m \u001b[38;5;28;01mreturn\u001b[39;00m \u001b[38;5;28mself\u001b[39m\u001b[38;5;241m.\u001b[39m_handle_response(response)\n",
      "File \u001b[0;32m~/Library/Caches/pypoetry/virtualenvs/autoguluon-sandbox-uyisuGyl-py3.9/lib/python3.9/site-packages/botocore/client.py:508\u001b[0m, in \u001b[0;36mClientCreator._create_api_method.<locals>._api_call\u001b[0;34m(self, *args, **kwargs)\u001b[0m\n\u001b[1;32m    504\u001b[0m     \u001b[38;5;28;01mraise\u001b[39;00m \u001b[38;5;167;01mTypeError\u001b[39;00m(\n\u001b[1;32m    505\u001b[0m         \u001b[38;5;124mf\u001b[39m\u001b[38;5;124m\"\u001b[39m\u001b[38;5;132;01m{\u001b[39;00mpy_operation_name\u001b[38;5;132;01m}\u001b[39;00m\u001b[38;5;124m() only accepts keyword arguments.\u001b[39m\u001b[38;5;124m\"\u001b[39m\n\u001b[1;32m    506\u001b[0m     )\n\u001b[1;32m    507\u001b[0m \u001b[38;5;66;03m# The \"self\" in this scope is referring to the BaseClient.\u001b[39;00m\n\u001b[0;32m--> 508\u001b[0m \u001b[38;5;28;01mreturn\u001b[39;00m \u001b[38;5;28;43mself\u001b[39;49m\u001b[38;5;241;43m.\u001b[39;49m\u001b[43m_make_api_call\u001b[49m\u001b[43m(\u001b[49m\u001b[43moperation_name\u001b[49m\u001b[43m,\u001b[49m\u001b[43m \u001b[49m\u001b[43mkwargs\u001b[49m\u001b[43m)\u001b[49m\n",
      "File \u001b[0;32m~/Library/Caches/pypoetry/virtualenvs/autoguluon-sandbox-uyisuGyl-py3.9/lib/python3.9/site-packages/botocore/client.py:915\u001b[0m, in \u001b[0;36mBaseClient._make_api_call\u001b[0;34m(self, operation_name, api_params)\u001b[0m\n\u001b[1;32m    913\u001b[0m     error_code \u001b[38;5;241m=\u001b[39m parsed_response\u001b[38;5;241m.\u001b[39mget(\u001b[38;5;124m\"\u001b[39m\u001b[38;5;124mError\u001b[39m\u001b[38;5;124m\"\u001b[39m, {})\u001b[38;5;241m.\u001b[39mget(\u001b[38;5;124m\"\u001b[39m\u001b[38;5;124mCode\u001b[39m\u001b[38;5;124m\"\u001b[39m)\n\u001b[1;32m    914\u001b[0m     error_class \u001b[38;5;241m=\u001b[39m \u001b[38;5;28mself\u001b[39m\u001b[38;5;241m.\u001b[39mexceptions\u001b[38;5;241m.\u001b[39mfrom_code(error_code)\n\u001b[0;32m--> 915\u001b[0m     \u001b[38;5;28;01mraise\u001b[39;00m error_class(parsed_response, operation_name)\n\u001b[1;32m    916\u001b[0m \u001b[38;5;28;01melse\u001b[39;00m:\n\u001b[1;32m    917\u001b[0m     \u001b[38;5;28;01mreturn\u001b[39;00m parsed_response\n",
      "\u001b[0;31mModelError\u001b[0m: An error occurred (ModelError) when calling the InvokeEndpoint operation: Received server error (500) from primary with message \"loaded state dict has a different number of parameter groups\nTraceback (most recent call last):\n  File \"/usr/local/lib/python3.7/site-packages/sagemaker_inference/transformer.py\", line 110, in transform\n    self.validate_and_initialize(model_dir=model_dir)\n  File \"/usr/local/lib/python3.7/site-packages/sagemaker_inference/transformer.py\", line 158, in validate_and_initialize\n    self._model = self._model_fn(model_dir)\n  File \"/opt/ml/model/code/vision_serve.py\", line 12, in model_fn\n    model = ImagePredictor.load(model_dir)\n  File \"/usr/local/lib/python3.7/site-packages/autogluon/vision/predictor/predictor.py\", line 703, in load\n    obj = pickle.load(fid)\n  File \"/usr/local/lib/python3.7/site-packages/gluoncv/auto/estimators/torch_image_classification/torch_image_classification.py\", line 821, in __setstate__\n    self._optimizer.load_state_dict(save_state['optimizer'])\n  File \"/usr/local/lib/python3.7/site-packages/torch/optim/optimizer.py\", line 141, in load_state_dict\n    raise ValueError(\"loaded state dict has a different number of \"\nValueError: loaded state dict has a different number of parameter groups\n\". See https://us-west-2.console.aws.amazon.com/cloudwatch/home?region=us-west-2#logEventViewer:group=/aws/sagemaker/Endpoints/autogluon-inference-2022-07-31-08-02-06-367 in account 110942190652 for more information."
     ]
    }
   ],
   "source": [
    "preds = predictor.predict(file_name)"
   ]
  },
  {
   "cell_type": "code",
   "execution_count": 28,
   "id": "7720b333-fec9-4a3b-b35a-4167fab97dba",
   "metadata": {},
   "outputs": [],
   "source": [
    "# Clean Up\n",
    "predictor.delete_endpoint()"
   ]
  },
  {
   "cell_type": "code",
   "execution_count": null,
   "id": "31744ccc-85f4-49e8-a608-c62f30df32b4",
   "metadata": {},
   "outputs": [],
   "source": []
  }
 ],
 "metadata": {
  "kernelspec": {
   "display_name": "Python 3 (ipykernel)",
   "language": "python",
   "name": "python3"
  },
  "language_info": {
   "codemirror_mode": {
    "name": "ipython",
    "version": 3
   },
   "file_extension": ".py",
   "mimetype": "text/x-python",
   "name": "python",
   "nbconvert_exporter": "python",
   "pygments_lexer": "ipython3",
   "version": "3.9.13"
  }
 },
 "nbformat": 4,
 "nbformat_minor": 5
}
