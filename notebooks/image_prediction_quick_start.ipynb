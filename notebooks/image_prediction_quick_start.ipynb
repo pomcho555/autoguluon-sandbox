{
 "cells": [
  {
   "cell_type": "markdown",
   "id": "b64d53b5-fa0e-492c-8941-cde620d23945",
   "metadata": {},
   "source": [
    "# Image Prediction - Quick Start\n"
   ]
  },
  {
   "cell_type": "code",
   "execution_count": 1,
   "id": "4287dcbb-a0aa-4deb-a105-d0dd1fb77942",
   "metadata": {},
   "outputs": [
    {
     "name": "stderr",
     "output_type": "stream",
     "text": [
      "/Users/traveroliver/Library/Caches/pypoetry/virtualenvs/autoguluon-sandbox-uyisuGyl-py3.9/lib/python3.9/site-packages/tqdm/auto.py:22: TqdmWarning: IProgress not found. Please update jupyter and ipywidgets. See https://ipywidgets.readthedocs.io/en/stable/user_install.html\n",
      "  from .autonotebook import tqdm as notebook_tqdm\n"
     ]
    }
   ],
   "source": [
    "import autogluon.core as ag\n",
    "from autogluon.vision import ImagePredictor, ImageDataset"
   ]
  },
  {
   "cell_type": "code",
   "execution_count": 8,
   "id": "d6fe2c0b-9326-432a-82a0-fed0195a232d",
   "metadata": {},
   "outputs": [],
   "source": [
    "import ssl\n",
    "ssl._create_default_https_context = ssl._create_unverified_context"
   ]
  },
  {
   "cell_type": "code",
   "execution_count": 2,
   "id": "ddbd7802-550e-4725-b0d2-1cebbb85985e",
   "metadata": {},
   "outputs": [
    {
     "name": "stdout",
     "output_type": "stream",
     "text": [
      "Downloading /Users/traveroliver/.gluoncv/archive/shopee-iet.zip from https://autogluon.s3.amazonaws.com/datasets/shopee-iet.zip...\n"
     ]
    },
    {
     "name": "stderr",
     "output_type": "stream",
     "text": [
      "100%|████████████████████████████████████████████████████████████████████████████████████████████████████████████████████████████████████████████████████████████████| 40895/40895 [01:19<00:00, 513.17KB/s]\n"
     ]
    },
    {
     "name": "stdout",
     "output_type": "stream",
     "text": [
      "data/\n",
      "├── test/\n",
      "└── train/\n",
      "                                                 image  label\n",
      "0    /Users/traveroliver/.gluoncv/datasets/shopee-i...      0\n",
      "1    /Users/traveroliver/.gluoncv/datasets/shopee-i...      0\n",
      "2    /Users/traveroliver/.gluoncv/datasets/shopee-i...      0\n",
      "3    /Users/traveroliver/.gluoncv/datasets/shopee-i...      0\n",
      "4    /Users/traveroliver/.gluoncv/datasets/shopee-i...      0\n",
      "..                                                 ...    ...\n",
      "795  /Users/traveroliver/.gluoncv/datasets/shopee-i...      3\n",
      "796  /Users/traveroliver/.gluoncv/datasets/shopee-i...      3\n",
      "797  /Users/traveroliver/.gluoncv/datasets/shopee-i...      3\n",
      "798  /Users/traveroliver/.gluoncv/datasets/shopee-i...      3\n",
      "799  /Users/traveroliver/.gluoncv/datasets/shopee-i...      3\n",
      "\n",
      "[800 rows x 2 columns]\n"
     ]
    }
   ],
   "source": [
    "train_dataset, _, test_dataset = ImageDataset.from_folders('https://autogluon.s3.amazonaws.com/datasets/shopee-iet.zip')\n",
    "print(train_dataset)"
   ]
  },
  {
   "cell_type": "code",
   "execution_count": 9,
   "id": "e875522d-5cc9-415e-b234-7eb7951e4a07",
   "metadata": {},
   "outputs": [
    {
     "name": "stderr",
     "output_type": "stream",
     "text": [
      "ImagePredictor sets accuracy as default eval_metric for classification problems.\n",
      "`time_limit=auto` set to `time_limit=7200`.\n",
      "Reset labels to [0, 1, 2, 3]\n",
      "Randomly split train_data into train[720]/validation[80] splits.\n",
      "No GPU detected/allowed, using most conservative search space.\n",
      "Starting fit without HPO\n",
      "modified configs(<old> != <new>): {\n",
      "root.misc.seed       42 != 463\n",
      "root.misc.num_workers 4 != 8\n",
      "root.img_cls.model   resnet101 != resnet18\n",
      "root.train.epochs    200 != 2\n",
      "root.train.batch_size 32 != 16\n",
      "root.train.early_stop_baseline 0.0 != -inf\n",
      "root.train.early_stop_max_value 1.0 != inf\n",
      "root.train.early_stop_patience -1 != 10\n",
      "root.gpus            (0,) != ()\n",
      "}\n",
      "Saved config to /Users/traveroliver/workspace/autoguluon-sandbox/d0604d44/.trial_0/config.yaml\n",
      "Downloading: \"https://download.pytorch.org/models/resnet18-5c106cde.pth\" to /Users/traveroliver/.cache/torch/hub/checkpoints/resnet18-5c106cde.pth\n",
      "Model resnet18 created, param count:                                         11178564\n",
      "AMP not enabled. Training in float32.\n",
      "Disable EMA as it is not supported for now.\n",
      "Start training from [Epoch 0]\n",
      "[Epoch 0] training: accuracy=0.293056\n",
      "[Epoch 0] speed: 6 samples/sec\ttime cost: 103.977358\n",
      "[Epoch 0] validation: top1=0.350000 top5=1.000000\n",
      "[Epoch 0] Current best top-1: 0.350000 vs previous -inf, saved to /Users/traveroliver/workspace/autoguluon-sandbox/d0604d44/.trial_0/best_checkpoint.pkl\n",
      "[Epoch 1] training: accuracy=0.690278\n",
      "[Epoch 1] speed: 7 samples/sec\ttime cost: 99.428965\n",
      "[Epoch 1] validation: top1=0.900000 top5=1.000000\n",
      "[Epoch 1] Current best top-1: 0.900000 vs previous 0.350000, saved to /Users/traveroliver/workspace/autoguluon-sandbox/d0604d44/.trial_0/best_checkpoint.pkl\n",
      "Applying the state from the best checkpoint...\n",
      "Finished, total runtime is 235.47 s\n",
      "{ 'best_config': { 'batch_size': 16,\n",
      "                   'dist_ip_addrs': None,\n",
      "                   'early_stop_baseline': -inf,\n",
      "                   'early_stop_max_value': inf,\n",
      "                   'early_stop_patience': 10,\n",
      "                   'epochs': 2,\n",
      "                   'final_fit': False,\n",
      "                   'gpus': [],\n",
      "                   'lr': 0.01,\n",
      "                   'model': 'resnet18',\n",
      "                   'ngpus_per_trial': 0,\n",
      "                   'nthreads_per_trial': 32,\n",
      "                   'num_workers': 8,\n",
      "                   'searcher': 'random',\n",
      "                   'seed': 463,\n",
      "                   'time_limits': 7200},\n",
      "  'total_time': 210.06435084342957,\n",
      "  'train_acc': 0.6902777777777778,\n",
      "  'valid_acc': 0.9}\n"
     ]
    },
    {
     "data": {
      "text/plain": [
       "<autogluon.vision.predictor.predictor.ImagePredictor at 0x7fe6479fceb0>"
      ]
     },
     "execution_count": 9,
     "metadata": {},
     "output_type": "execute_result"
    }
   ],
   "source": [
    "predictor = ImagePredictor()\n",
    "# since the original dataset does not provide validation split, the `fit` function splits it randomly with 90/10 ratio\n",
    "predictor.fit(train_dataset, hyperparameters={'epochs': 2})  # you can trust the default config, we reduce the # epoch to save some build time"
   ]
  },
  {
   "cell_type": "code",
   "execution_count": 10,
   "id": "09570e33-0d6a-49f5-a4e5-54ee62b77fdc",
   "metadata": {},
   "outputs": [
    {
     "name": "stdout",
     "output_type": "stream",
     "text": [
      "Top-1 train acc: 0.690, val acc: 0.900\n"
     ]
    }
   ],
   "source": [
    "fit_result = predictor.fit_summary()\n",
    "print('Top-1 train acc: %.3f, val acc: %.3f' %(fit_result['train_acc'], fit_result['valid_acc']))"
   ]
  },
  {
   "cell_type": "code",
   "execution_count": 11,
   "id": "93def089-acee-434c-a13f-5a2d0a8c0a43",
   "metadata": {},
   "outputs": [
    {
     "name": "stdout",
     "output_type": "stream",
     "text": [
      "0    0\n",
      "Name: label, dtype: int64\n"
     ]
    }
   ],
   "source": [
    "image_path = test_dataset.iloc[0]['image']\n",
    "result = predictor.predict(image_path)\n",
    "print(result)"
   ]
  },
  {
   "cell_type": "code",
   "execution_count": 13,
   "id": "4b0d890c-700a-4c58-a1db-e1b3b98b823f",
   "metadata": {},
   "outputs": [
    {
     "name": "stdout",
     "output_type": "stream",
     "text": [
      "          0         1         2         3\n",
      "0  0.557787  0.377065  0.058982  0.006166\n"
     ]
    }
   ],
   "source": [
    "proba = predictor.predict_proba(image_path)\n",
    "print(proba)"
   ]
  },
  {
   "cell_type": "code",
   "execution_count": 14,
   "id": "ff704cbd-188c-4214-a76c-cafdec19a215",
   "metadata": {},
   "outputs": [
    {
     "name": "stdout",
     "output_type": "stream",
     "text": [
      "0     0\n",
      "1     1\n",
      "2     3\n",
      "3     0\n",
      "4     1\n",
      "     ..\n",
      "75    3\n",
      "76    3\n",
      "77    3\n",
      "78    3\n",
      "79    1\n",
      "Name: label, Length: 80, dtype: int64\n"
     ]
    }
   ],
   "source": [
    "bulk_result = predictor.predict(test_dataset)\n",
    "print(bulk_result)"
   ]
  },
  {
   "cell_type": "code",
   "execution_count": 15,
   "id": "5bc3c367-d4cb-43db-bd36-b6c8e7ee263a",
   "metadata": {},
   "outputs": [
    {
     "name": "stdout",
     "output_type": "stream",
     "text": [
      "                                       image_feature  \\\n",
      "0  [0.80504835, 0.5993979, 0.46489826, 0.04663342...   \n",
      "\n",
      "                                               image  \n",
      "0  /Users/traveroliver/.gluoncv/datasets/shopee-i...  \n"
     ]
    }
   ],
   "source": [
    "image_path = test_dataset.iloc[0]['image']\n",
    "feature = predictor.predict_feature(image_path)\n",
    "print(feature)"
   ]
  },
  {
   "cell_type": "code",
   "execution_count": 16,
   "id": "ff715286-80e0-4e87-94ef-84091fb69d41",
   "metadata": {},
   "outputs": [
    {
     "name": "stderr",
     "output_type": "stream",
     "text": [
      "[Epoch 1] validation: top1=0.850000 top5=1.000000\n"
     ]
    },
    {
     "name": "stdout",
     "output_type": "stream",
     "text": [
      "Top-1 test acc: 0.850\n"
     ]
    }
   ],
   "source": [
    "test_acc = predictor.evaluate(test_dataset)\n",
    "print('Top-1 test acc: %.3f' % test_acc['top1'])"
   ]
  },
  {
   "cell_type": "code",
   "execution_count": 17,
   "id": "e9806237-dd69-4ff3-a434-edeeb1d132b9",
   "metadata": {},
   "outputs": [
    {
     "name": "stdout",
     "output_type": "stream",
     "text": [
      "0    0\n",
      "Name: label, dtype: int64\n"
     ]
    }
   ],
   "source": [
    "filename = 'predictor.ag'\n",
    "predictor.save(filename)\n",
    "predictor_loaded = ImagePredictor.load(filename)\n",
    "# use predictor_loaded as usual\n",
    "result = predictor_loaded.predict(image_path)\n",
    "print(result)"
   ]
  },
  {
   "cell_type": "code",
   "execution_count": null,
   "id": "b5ae6999-bf1a-4504-bd1a-c91cbc98ac89",
   "metadata": {},
   "outputs": [],
   "source": []
  }
 ],
 "metadata": {
  "kernelspec": {
   "display_name": "Python 3 (ipykernel)",
   "language": "python",
   "name": "python3"
  },
  "language_info": {
   "codemirror_mode": {
    "name": "ipython",
    "version": 3
   },
   "file_extension": ".py",
   "mimetype": "text/x-python",
   "name": "python",
   "nbconvert_exporter": "python",
   "pygments_lexer": "ipython3",
   "version": "3.9.13"
  }
 },
 "nbformat": 4,
 "nbformat_minor": 5
}
